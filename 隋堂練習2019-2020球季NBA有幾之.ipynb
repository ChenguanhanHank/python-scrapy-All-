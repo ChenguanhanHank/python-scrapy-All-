{
 "cells": [
  {
   "cell_type": "code",
   "execution_count": 11,
   "id": "b3f3af0a",
   "metadata": {},
   "outputs": [],
   "source": [
    "import requests"
   ]
  },
  {
   "cell_type": "code",
   "execution_count": 13,
   "id": "a2d99cc2",
   "metadata": {},
   "outputs": [],
   "source": [
    "request_url = 'http://data.nba.net/prod/v2/2019/teams.json'\n",
    "response = requests.get(request_url)"
   ]
  },
  {
   "cell_type": "code",
   "execution_count": 14,
   "id": "d86a25a4",
   "metadata": {},
   "outputs": [
    {
     "name": "stdout",
     "output_type": "stream",
     "text": [
      "<class 'list'>\n"
     ]
    }
   ],
   "source": [
    "response_json = response.json()\n",
    "teams = response_json[\"league\"][\"standard\"]\n",
    "print(type(teams))"
   ]
  },
  {
   "cell_type": "code",
   "execution_count": 15,
   "id": "0669c263",
   "metadata": {},
   "outputs": [
    {
     "name": "stdout",
     "output_type": "stream",
     "text": [
      "<class 'requests.models.Response'>\n"
     ]
    }
   ],
   "source": [
    "print(type(response))"
   ]
  },
  {
   "cell_type": "code",
   "execution_count": 16,
   "id": "76581b86",
   "metadata": {},
   "outputs": [
    {
     "name": "stdout",
     "output_type": "stream",
     "text": [
      "200\n"
     ]
    }
   ],
   "source": [
    "print(response.status_code)"
   ]
  },
  {
   "cell_type": "code",
   "execution_count": 17,
   "id": "c8b57598",
   "metadata": {},
   "outputs": [
    {
     "data": {
      "text/plain": [
       "{'isNBAFranchise': False,\n",
       " 'isAllStar': False,\n",
       " 'city': 'Croatia',\n",
       " 'altCityName': 'Croatia',\n",
       " 'fullName': 'Team Croatia',\n",
       " 'tricode': 'CRO',\n",
       " 'teamId': '70',\n",
       " 'nickname': 'Croatia',\n",
       " 'urlName': 'croatia',\n",
       " 'teamShortName': 'Croatia',\n",
       " 'confName': 'summer',\n",
       " 'divName': ''}"
      ]
     },
     "execution_count": 17,
     "metadata": {},
     "output_type": "execute_result"
    }
   ],
   "source": [
    "teams[0]"
   ]
  },
  {
   "cell_type": "code",
   "execution_count": 18,
   "id": "c122a356",
   "metadata": {},
   "outputs": [
    {
     "name": "stdout",
     "output_type": "stream",
     "text": [
      "2019-2020 球季 NBA 有 30 支球隊\n"
     ]
    }
   ],
   "source": [
    "n_nba_teams = 0\n",
    "for d in teams:\n",
    "    if d['isNBAFranchise']:\n",
    "        n_nba_teams += 1\n",
    "print(\"2019-2020 球季 NBA 有 {} 支球隊\".format(n_nba_teams))"
   ]
  },
  {
   "cell_type": "code",
   "execution_count": null,
   "id": "6eefd17a",
   "metadata": {},
   "outputs": [],
   "source": []
  }
 ],
 "metadata": {
  "kernelspec": {
   "display_name": "Python 3",
   "language": "python",
   "name": "python3"
  },
  "language_info": {
   "codemirror_mode": {
    "name": "ipython",
    "version": 3
   },
   "file_extension": ".py",
   "mimetype": "text/x-python",
   "name": "python",
   "nbconvert_exporter": "python",
   "pygments_lexer": "ipython3",
   "version": "3.8.8"
  }
 },
 "nbformat": 4,
 "nbformat_minor": 5
}
